{
 "cells": [
  {
   "cell_type": "code",
   "execution_count": 1,
   "id": "25418cc7-534e-41af-9999-6a2358e17ff0",
   "metadata": {},
   "outputs": [],
   "source": [
    "# take a vehicle based view, plotting time of day vs crowding for each bus until it arrives here?"
   ]
  },
  {
   "cell_type": "code",
   "execution_count": 2,
   "id": "f86c5325-af8d-47ac-b006-5ac406cf0fe3",
   "metadata": {},
   "outputs": [],
   "source": [
    "import pandas as pd"
   ]
  },
  {
   "cell_type": "code",
   "execution_count": 13,
   "id": "f7787374-04a4-47fe-98f4-1c7a0e1780bf",
   "metadata": {},
   "outputs": [
    {
     "data": {
      "text/html": [
       "<div>\n",
       "<style scoped>\n",
       "    .dataframe tbody tr th:only-of-type {\n",
       "        vertical-align: middle;\n",
       "    }\n",
       "\n",
       "    .dataframe tbody tr th {\n",
       "        vertical-align: top;\n",
       "    }\n",
       "\n",
       "    .dataframe thead th {\n",
       "        text-align: right;\n",
       "    }\n",
       "</style>\n",
       "<table border=\"1\" class=\"dataframe\">\n",
       "  <thead>\n",
       "    <tr style=\"text-align: right;\">\n",
       "      <th></th>\n",
       "      <th>stop_id</th>\n",
       "      <th>destination</th>\n",
       "      <th>bus_id</th>\n",
       "      <th>eta</th>\n",
       "      <th>eta_time</th>\n",
       "      <th>occupancy</th>\n",
       "    </tr>\n",
       "    <tr>\n",
       "      <th>timestamp</th>\n",
       "      <th></th>\n",
       "      <th></th>\n",
       "      <th></th>\n",
       "      <th></th>\n",
       "      <th></th>\n",
       "      <th></th>\n",
       "    </tr>\n",
       "  </thead>\n",
       "  <tbody>\n",
       "    <tr>\n",
       "      <th>2022-05-19 21:19:24.748896</th>\n",
       "      <td>30189</td>\n",
       "      <td>HOBOKEN TERMINAL</td>\n",
       "      <td>5865</td>\n",
       "      <td>8</td>\n",
       "      <td>9:27 PM</td>\n",
       "      <td>LIGHT</td>\n",
       "    </tr>\n",
       "    <tr>\n",
       "      <th>2022-05-19 21:19:24.749126</th>\n",
       "      <td>30189</td>\n",
       "      <td>HOBOKEN TERMINAL</td>\n",
       "      <td>5905</td>\n",
       "      <td>34</td>\n",
       "      <td>9:53 PM</td>\n",
       "      <td>LIGHT</td>\n",
       "    </tr>\n",
       "  </tbody>\n",
       "</table>\n",
       "</div>"
      ],
      "text/plain": [
       "                            stop_id       destination  bus_id  eta eta_time  \\\n",
       "timestamp                                                                     \n",
       "2022-05-19 21:19:24.748896    30189  HOBOKEN TERMINAL    5865    8  9:27 PM   \n",
       "2022-05-19 21:19:24.749126    30189  HOBOKEN TERMINAL    5905   34  9:53 PM   \n",
       "\n",
       "                           occupancy  \n",
       "timestamp                             \n",
       "2022-05-19 21:19:24.748896     LIGHT  \n",
       "2022-05-19 21:19:24.749126     LIGHT  "
      ]
     },
     "execution_count": 13,
     "metadata": {},
     "output_type": "execute_result"
    }
   ],
   "source": [
    "header_list = ['timestamp','stop_id','destination','bus_id','eta','eta_time','occupancy']\n",
    "\n",
    "df = pd.read_csv(\"NJT119_crowding.csv\", names=header_list).set_index('timestamp')\n",
    "df"
   ]
  },
  {
   "cell_type": "code",
   "execution_count": 14,
   "id": "c47581cd-d860-4c9f-858a-029c8cbddeec",
   "metadata": {},
   "outputs": [],
   "source": [
    "df['occupancy'] = df['occupancy'].map({'LIGHT': 1, 'MEDIUM': 2, 'HEAVY': 3})"
   ]
  },
  {
   "cell_type": "code",
   "execution_count": 15,
   "id": "560d2b40-1cd8-4daf-b019-347f37c284c4",
   "metadata": {},
   "outputs": [
    {
     "data": {
      "text/html": [
       "<div>\n",
       "<style scoped>\n",
       "    .dataframe tbody tr th:only-of-type {\n",
       "        vertical-align: middle;\n",
       "    }\n",
       "\n",
       "    .dataframe tbody tr th {\n",
       "        vertical-align: top;\n",
       "    }\n",
       "\n",
       "    .dataframe thead th {\n",
       "        text-align: right;\n",
       "    }\n",
       "</style>\n",
       "<table border=\"1\" class=\"dataframe\">\n",
       "  <thead>\n",
       "    <tr style=\"text-align: right;\">\n",
       "      <th></th>\n",
       "      <th>stop_id</th>\n",
       "      <th>destination</th>\n",
       "      <th>bus_id</th>\n",
       "      <th>eta</th>\n",
       "      <th>eta_time</th>\n",
       "      <th>occupancy</th>\n",
       "    </tr>\n",
       "    <tr>\n",
       "      <th>timestamp</th>\n",
       "      <th></th>\n",
       "      <th></th>\n",
       "      <th></th>\n",
       "      <th></th>\n",
       "      <th></th>\n",
       "      <th></th>\n",
       "    </tr>\n",
       "  </thead>\n",
       "  <tbody>\n",
       "    <tr>\n",
       "      <th>2022-05-19 21:19:24.748896</th>\n",
       "      <td>30189</td>\n",
       "      <td>HOBOKEN TERMINAL</td>\n",
       "      <td>5865</td>\n",
       "      <td>8</td>\n",
       "      <td>9:27 PM</td>\n",
       "      <td>1</td>\n",
       "    </tr>\n",
       "    <tr>\n",
       "      <th>2022-05-19 21:19:24.749126</th>\n",
       "      <td>30189</td>\n",
       "      <td>HOBOKEN TERMINAL</td>\n",
       "      <td>5905</td>\n",
       "      <td>34</td>\n",
       "      <td>9:53 PM</td>\n",
       "      <td>1</td>\n",
       "    </tr>\n",
       "  </tbody>\n",
       "</table>\n",
       "</div>"
      ],
      "text/plain": [
       "                            stop_id       destination  bus_id  eta eta_time  \\\n",
       "timestamp                                                                     \n",
       "2022-05-19 21:19:24.748896    30189  HOBOKEN TERMINAL    5865    8  9:27 PM   \n",
       "2022-05-19 21:19:24.749126    30189  HOBOKEN TERMINAL    5905   34  9:53 PM   \n",
       "\n",
       "                            occupancy  \n",
       "timestamp                              \n",
       "2022-05-19 21:19:24.748896          1  \n",
       "2022-05-19 21:19:24.749126          1  "
      ]
     },
     "execution_count": 15,
     "metadata": {},
     "output_type": "execute_result"
    }
   ],
   "source": [
    "df"
   ]
  },
  {
   "cell_type": "code",
   "execution_count": 18,
   "id": "eedd18dd-d13e-4cae-85c1-cca2014e1498",
   "metadata": {},
   "outputs": [
    {
     "data": {
      "text/plain": [
       "<AxesSubplot:xlabel='timestamp'>"
      ]
     },
     "execution_count": 18,
     "metadata": {},
     "output_type": "execute_result"
    },
    {
     "data": {
      "image/png": "[encoded data removed]",
      "text/plain": [
       "<Figure size 432x288 with 1 Axes>"
      ]
     },
     "metadata": {
      "needs_background": "light"
     },
     "output_type": "display_data"
    }
   ],
   "source": [
    "df.plot(y='occupancy')"
   ]
  },
  {
   "cell_type": "code",
   "execution_count": 24,
   "id": "93192029-08f0-4b8e-b400-8b1124edb3bb",
   "metadata": {},
   "outputs": [
    {
     "name": "stdout",
     "output_type": "stream",
     "text": [
      "timestamp\n",
      "2022-05-19 21:19:24.748896    1\n",
      "Name: occupancy, dtype: int64\n",
      "timestamp\n",
      "2022-05-19 21:19:24.749126    1\n",
      "Name: occupancy, dtype: int64\n"
     ]
    },
    {
     "data": {
      "image/png": "[encoded data removed]",
      "text/plain": [
       "<Figure size 432x288 with 1 Axes>"
      ]
     },
     "metadata": {
      "needs_background": "light"
     },
     "output_type": "display_data"
    },
    {
     "data": {
      "image/png": "[encoded data removed]",
      "text/plain": [
       "<Figure size 432x288 with 1 Axes>"
      ]
     },
     "metadata": {
      "needs_background": "light"
     },
     "output_type": "display_data"
    }
   ],
   "source": [
    "import matplotlib.pyplot as plt\n",
    "\n",
    "for k, g in df.groupby('bus_id'):\n",
    "    print(g['occupancy'])\n",
    "    # plt.plot(g['occupancy'])\n",
    "    g.plot(y='occupancy')\n",
    "\n",
    "#display plot\n",
    "plt.show()"
   ]
  },
  {
   "cell_type": "code",
   "execution_count": null,
   "id": "6d01fdbc-91b2-4537-8b21-c79f451c1db7",
   "metadata": {},
   "outputs": [],
   "source": []
  }
 ],
 "metadata": {
  "kernelspec": {
   "display_name": "Python [conda env:bigdata]",
   "language": "python",
   "name": "conda-env-bigdata-py"
  },
  "language_info": {
   "codemirror_mode": {
    "name": "ipython",
    "version": 3
   },
   "file_extension": ".py",
   "mimetype": "text/x-python",
   "name": "python",
   "nbconvert_exporter": "python",
   "pygments_lexer": "ipython3",
   "version": "3.9.5"
  }
 },
 "nbformat": 4,
 "nbformat_minor": 5
}
