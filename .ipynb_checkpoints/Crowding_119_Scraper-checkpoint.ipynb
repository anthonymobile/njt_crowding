{
 "cells": [
  {
   "cell_type": "markdown",
   "id": "22602ec2",
   "metadata": {},
   "source": [
    "# Crowding on NJTansit's 119"
   ]
  },
  {
   "cell_type": "raw",
   "id": "e9c07c90",
   "metadata": {},
   "source": [
    "Scrape and plot occupancy on the NJTransit 119."
   ]
  },
  {
   "cell_type": "code",
   "execution_count": 1,
   "id": "e4943502-9003-4240-aed9-e68da9704469",
   "metadata": {},
   "outputs": [],
   "source": [
    "from selenium import webdriver\n",
    "from selenium.webdriver.common.by import By"
   ]
  },
  {
   "cell_type": "code",
   "execution_count": 2,
   "id": "488754d5",
   "metadata": {},
   "outputs": [],
   "source": [
    "# configure headless browser\n",
    "chrome_options = webdriver.ChromeOptions()\n",
    "chrome_options.add_argument('--headless')\n",
    "driver = webdriver.Chrome(options=chrome_options)"
   ]
  },
  {
   "cell_type": "code",
   "execution_count": 3,
   "id": "9935b755-541f-44eb-8365-2867f27d3a4e",
   "metadata": {},
   "outputs": [],
   "source": [
    "# Request the page and scrape the data\n",
    "url=\"https://www.njtransit.com/my-bus-to?stopID=30189&form=stopID\"\n",
    "try:\n",
    "    driver.get(url)\n",
    "except:\n",
    "    print(\"error getting web page\")\n",
    "\n",
    "raw_rows = driver.find_elements(By.XPATH, \"//div[@class='media-body']\")"
   ]
  },
  {
   "cell_type": "code",
   "execution_count": 4,
   "id": "ffb94302-2f81-442a-b732-e5ac5729d7ac",
   "metadata": {},
   "outputs": [
    {
     "data": {
      "text/plain": [
       "[['HOBOKEN TERMINAL',\n",
       "  'Bus #5865',\n",
       "  'Arriving in 8 minutes',\n",
       "  '9:27 PM',\n",
       "  'LIGHT'],\n",
       " ['HOBOKEN TERMINAL', 'Bus #5865', 'Arriving in 8 minutes'],\n",
       " ['HOBOKEN TERMINAL',\n",
       "  'Bus #5905',\n",
       "  'Arriving in 34 minutes',\n",
       "  '9:53 PM',\n",
       "  'LIGHT'],\n",
       " ['HOBOKEN TERMINAL', 'Bus #5905', 'Arriving in 34 minutes'],\n",
       " ['Bus', 'Check All', '190 401 412 507 509 553 559'],\n",
       " ['Bus']]"
      ]
     },
     "execution_count": 4,
     "metadata": {},
     "output_type": "execute_result"
    }
   ],
   "source": [
    "# raw data\n",
    "split_rows = [row.text.split('\\n') for row in raw_rows]\n",
    "split_rows"
   ]
  },
  {
   "cell_type": "code",
   "execution_count": 5,
   "id": "79fb2eb9-38b4-4545-b8bb-a905ffbdf8aa",
   "metadata": {},
   "outputs": [
    {
     "data": {
      "text/plain": [
       "[['HOBOKEN TERMINAL',\n",
       "  'Bus #5865',\n",
       "  'Arriving in 8 minutes',\n",
       "  '9:27 PM',\n",
       "  'LIGHT'],\n",
       " ['HOBOKEN TERMINAL',\n",
       "  'Bus #5905',\n",
       "  'Arriving in 34 minutes',\n",
       "  '9:53 PM',\n",
       "  'LIGHT']]"
      ]
     },
     "execution_count": 5,
     "metadata": {},
     "output_type": "execute_result"
    }
   ],
   "source": [
    "# filtered data\n",
    "filtered_rows = [b for b in split_rows if len(b)==5]\n",
    "filtered_rows"
   ]
  },
  {
   "cell_type": "code",
   "execution_count": 6,
   "id": "745e22f5-ee5c-4ed9-b5c1-bcc2d6f0a7e5",
   "metadata": {},
   "outputs": [
    {
     "name": "stdout",
     "output_type": "stream",
     "text": [
      "Added row: ['2022-05-19 21:19:24.748896', '30189', 'HOBOKEN TERMINAL', '5865', '8', '9:27 PM', 'LIGHT']\n",
      "Added row: ['2022-05-19 21:19:24.749126', '30189', 'HOBOKEN TERMINAL', '5905', '34', '9:53 PM', 'LIGHT']\n"
     ]
    }
   ],
   "source": [
    "# dump to CSV\n",
    "# timestamp, stopid, destination, bus_id, eta in minutes, eta time, occupancy\n",
    "# can infer route from destination\n",
    "import datetime as dt\n",
    "from csv import writer \n",
    "with open('NJT119_crowding.csv', 'a', newline='') as f_object:  \n",
    "    writer_object = writer(f_object)\n",
    "    for row in filtered_rows:\n",
    "        row.insert(0,'30189')\n",
    "        row[2]=row[2].split('#')[1]\n",
    "        row[3]=row[3].split(' ')[2]\n",
    "        row.insert(0, str(dt.datetime.now()))\n",
    "        writer_object.writerow(row)\n",
    "        print (f\"Added row: {row}\")\n",
    "    f_object.close()"
   ]
  },
  {
   "cell_type": "markdown",
   "id": "e955db92-af63-4e69-ad01-45228b28c0f8",
   "metadata": {},
   "source": [
    "# TODO\n",
    "- run 1x minute for a day and visualize the results\n",
    "- run once per minute for a list of stops in the area (jsq, central, here, palisade, weehawken)\n",
    "- use NJTransitAPI.py get_route_points to make a list of every stop on the route and then fetch/parse them all 1x / minute\n",
    "- deployment\n",
    "    - lambdaize it: selenium lambda https://levelup.gitconnected.com/chromium-and-selenium-in-aws-lambda-6e7476a03d80\n",
    "    - write to csv in S3?\n",
    "    \n",
    "- dockerize and deploy to ECS https://docs.docker.com/cloud/ecs-integration/"
   ]
  },
  {
   "cell_type": "code",
   "execution_count": null,
   "id": "adad2e1a-6521-4781-98f5-6d845586615c",
   "metadata": {},
   "outputs": [],
   "source": []
  }
 ],
 "metadata": {
  "interpreter": {
   "hash": "b3c76197e6a5ccb76c1c9d108f6b1243b3b15b967d3c637880c226fe09a3b935"
  },
  "kernelspec": {
   "display_name": "Python [conda env:bigdata]",
   "language": "python",
   "name": "conda-env-bigdata-py"
  },
  "language_info": {
   "codemirror_mode": {
    "name": "ipython",
    "version": 3
   },
   "file_extension": ".py",
   "mimetype": "text/x-python",
   "name": "python",
   "nbconvert_exporter": "python",
   "pygments_lexer": "ipython3",
   "version": "3.9.5"
  }
 },
 "nbformat": 4,
 "nbformat_minor": 5
}
