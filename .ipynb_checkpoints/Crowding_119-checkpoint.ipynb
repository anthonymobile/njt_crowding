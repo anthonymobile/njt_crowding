{
 "cells": [
  {
   "cell_type": "raw",
   "id": "332c594b",
   "metadata": {},
   "source": [
    "Scrape and plot occupancy on the NJTransit 119"
   ]
  },
  {
   "cell_type": "markdown",
   "id": "901048d2",
   "metadata": {},
   "source": [
    "# with selenium"
   ]
  },
  {
   "cell_type": "code",
   "execution_count": 1,
   "id": "7e53d758",
   "metadata": {},
   "outputs": [],
   "source": [
    "url = \"https://mybusnow.njtransit.com/predictions/bystop/bustime:30189\""
   ]
  },
  {
   "cell_type": "code",
   "execution_count": 3,
   "id": "8a5fc888",
   "metadata": {},
   "outputs": [],
   "source": [
    "from selenium import webdriver\n",
    "from selenium.webdriver.common.by import By\n",
    "\n",
    "# interactive\n",
    "driver = webdriver.Chrome()\n",
    "\n",
    "# # headless\n",
    "# chrome_options = webdriver.ChromeOptions()\n",
    "# chrome_options.add_argument('--headless')\n",
    "# driver = webdriver.Chrome(options=chrome_options)\n",
    "\n",
    "# Request the page\n",
    "driver.get(url)"
   ]
  },
  {
   "cell_type": "code",
   "execution_count": 4,
   "id": "3d1bfe9a",
   "metadata": {},
   "outputs": [],
   "source": [
    "arrivaltimes = driver.find_elements(By.XPATH, \"//div[@class='arrivaltime']\")"
   ]
  },
  {
   "cell_type": "code",
   "execution_count": 5,
   "id": "9585e466",
   "metadata": {},
   "outputs": [
    {
     "data": {
      "text/plain": [
       "[<selenium.webdriver.remote.webelement.WebElement (session=\"b49aff33ea14dc34a455e98c381409f3\", element=\"8032d022-d901-43d7-84b6-a377978ffecc\")>,\n",
       " <selenium.webdriver.remote.webelement.WebElement (session=\"b49aff33ea14dc34a455e98c381409f3\", element=\"62d6e936-7888-4703-b0cd-b23bc8ea3f0a\")>,\n",
       " <selenium.webdriver.remote.webelement.WebElement (session=\"b49aff33ea14dc34a455e98c381409f3\", element=\"7627d811-7f01-446a-b6b0-44ec0e0c5bcd\")>]"
      ]
     },
     "execution_count": 5,
     "metadata": {},
     "output_type": "execute_result"
    }
   ],
   "source": [
    "arrivaltimes"
   ]
  },
  {
   "cell_type": "code",
   "execution_count": 6,
   "id": "36dc35d8",
   "metadata": {},
   "outputs": [
    {
     "data": {
      "text/plain": [
       "['19min', '23min', '34min']"
      ]
     },
     "execution_count": 6,
     "metadata": {},
     "output_type": "execute_result"
    }
   ],
   "source": [
    "[a.text for a in arrivaltimes]"
   ]
  },
  {
   "cell_type": "raw",
   "id": "902f4652",
   "metadata": {},
   "source": [
    "now search for loads\n",
    "\n",
    "div class=\"col load-count load-count-low\"\n",
    "div class=\"col load-count load-count-??\"\n",
    "div class=\"col load-count load-count-??\""
   ]
  },
  {
   "cell_type": "code",
   "execution_count": 7,
   "id": "15956e17",
   "metadata": {},
   "outputs": [
    {
     "data": {
      "text/plain": [
       "[]"
      ]
     },
     "execution_count": 7,
     "metadata": {},
     "output_type": "execute_result"
    }
   ],
   "source": [
    "occupancies = driver.find_elements(By.XPATH, \"//div[@class='col load-count']\")\n",
    "[o.text for o in occupancies]"
   ]
  },
  {
   "cell_type": "code",
   "execution_count": null,
   "id": "ef95eeaf",
   "metadata": {},
   "outputs": [],
   "source": []
  }
 ],
 "metadata": {
  "kernelspec": {
   "display_name": "Python [conda env:bigdata]",
   "language": "python",
   "name": "conda-env-bigdata-py"
  },
  "language_info": {
   "codemirror_mode": {
    "name": "ipython",
    "version": 3
   },
   "file_extension": ".py",
   "mimetype": "text/x-python",
   "name": "python",
   "nbconvert_exporter": "python",
   "pygments_lexer": "ipython3",
   "version": "3.9.5"
  }
 },
 "nbformat": 4,
 "nbformat_minor": 5
}
