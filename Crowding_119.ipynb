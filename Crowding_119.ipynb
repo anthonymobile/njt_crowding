{
 "cells": [
  {
   "cell_type": "raw",
   "id": "24f5425f-6d98-44d4-a001-777e2974d410",
   "metadata": {},
   "source": [
    "Scrape and plot occupancy on the NJTransit 119"
   ]
  },
  {
   "cell_type": "code",
   "execution_count": 1,
   "id": "43d6c523-1d8c-4ce4-8016-616d3306ea09",
   "metadata": {},
   "outputs": [],
   "source": [
    "import src.NJTransitAPI as njt"
   ]
  },
  {
   "cell_type": "raw",
   "id": "de779379-123c-4007-bb4c-165472ca8e87",
   "metadata": {},
   "source": [
    "Guide to Clever Devices API endpoints\n",
    "https://github.com/harperreed/transitapi/wiki/Unofficial-Bustracker-API"
   ]
  },
  {
   "cell_type": "code",
   "execution_count": 2,
   "id": "2d080d14-fb71-4c10-ba8f-4824fb12e5b7",
   "metadata": {},
   "outputs": [],
   "source": [
    "route=\"119\""
   ]
  },
  {
   "cell_type": "raw",
   "id": "ae1d38a2-acaa-4f8c-aa94-1960e6fa1e04",
   "metadata": {},
   "source": [
    "step 1 get buses for route\n",
    "http://mybusnow.njtransit.com/bustime/map/getBusesForRoute.jsp"
   ]
  },
  {
   "cell_type": "code",
   "execution_count": 3,
   "id": "f784e2a8-b615-4c3e-8ec9-995e628b1cc5",
   "metadata": {},
   "outputs": [],
   "source": [
    "# #test fetch\n",
    "# xml_data, timestamp = njt.get_xml_data('nj', 'buses_for_route', route=route)"
   ]
  },
  {
   "cell_type": "code",
   "execution_count": 4,
   "id": "4fca4800-2600-4a97-99f5-15c607c20154",
   "metadata": {},
   "outputs": [],
   "source": [
    "#test fetch + parse\n",
    "xml_data, timestamp = njt.get_xml_data('nj', 'buses_for_route', route=route)\n"
   ]
  },
  {
   "cell_type": "code",
   "execution_count": 5,
   "id": "02d16737-cabb-44fa-bcd2-4b116f454522",
   "metadata": {},
   "outputs": [
    {
     "data": {
      "text/plain": [
       "[Bus[bid=141102102 cars= consist= d=South Bound dd=Bayonne dip=29079 dn=SSW fs=119 JERSEY CITY AND BAYONNE  VIA JFK BLVD id=6027 lat=40.73456152554216 lon=-74.05686214052398 m=1 name=Bus op=1063 pd=Bayonne pdRtpiFeedName= pid=782 rt=119 rtRtpiFeedName= rtdd=119 rtpiFeedName= run=5 wid1=0005 wid2=0119],\n",
       " Bus[bid=141105002 cars= consist= d=North East Bound dd=New York dip=31925 dn=NNE fs=119 NEW YORK id=6202 lat=40.72064740730055 lon=-74.07674431078362 m=1 name=Bus op=1157 pd=New York pdRtpiFeedName= pid=591 rt=119 rtRtpiFeedName= rtdd=119 rtpiFeedName= run=8 wid1=0008 wid2=0119],\n",
       " Bus[bid=141105202 cars= consist= d=North Bound dd=New York dip=49535 dn=NNE fs=119 NEW YORK id=5638 lat=40.74915107520851 lon=-74.03938458416913 m=1 name=Bus op=1133 pd=New York pdRtpiFeedName= pid=591 rt=119 rtRtpiFeedName= rtdd=119 rtpiFeedName= run=6 wid1=0006 wid2=0119],\n",
       " Bus[bid=141098602 cars= consist= d=South West Bound dd=Bayonne dip=57869 dn=SSW fs=119 JERSEY CITY AND BAYONNE  VIA JFK BLVD id=6052 lat=40.680610284572694 lon=-74.11261060761242 m=1 name=Bus op=1030 pd=Bayonne pdRtpiFeedName= pid=782 rt=119 rtRtpiFeedName= rtdd=119 rtpiFeedName= run=4 wid1=0004 wid2=0119]]"
      ]
     },
     "execution_count": 5,
     "metadata": {},
     "output_type": "execute_result"
    }
   ],
   "source": [
    "njt.parse_xml_getBusesForRoute(xml_data)"
   ]
  },
  {
   "cell_type": "raw",
   "id": "154d45b2-8890-4c51-96f6-ac52e098d274",
   "metadata": {},
   "source": [
    "step 2 get predictions for each bus\n",
    "http://mybusnow.njtransit.com/bustime/map/getBusPredictions.jsp?bus=xxx"
   ]
  }
 ],
 "metadata": {
  "kernelspec": {
   "display_name": "Python [conda env:bigdata]",
   "language": "python",
   "name": "conda-env-bigdata-py"
  },
  "language_info": {
   "codemirror_mode": {
    "name": "ipython",
    "version": 3
   },
   "file_extension": ".py",
   "mimetype": "text/x-python",
   "name": "python",
   "nbconvert_exporter": "python",
   "pygments_lexer": "ipython3",
   "version": "3.9.5"
  }
 },
 "nbformat": 4,
 "nbformat_minor": 5
}
