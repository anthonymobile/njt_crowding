{
 "cells": [
  {
   "cell_type": "raw",
   "id": "17b9c4be",
   "metadata": {},
   "source": [
    "Scrape and plot occupancy on the NJTransit 119"
   ]
  },
  {
   "cell_type": "markdown",
   "id": "3b5abb80",
   "metadata": {},
   "source": [
    "# with selenium"
   ]
  },
  {
   "cell_type": "code",
   "execution_count": 17,
   "id": "647d1643",
   "metadata": {},
   "outputs": [],
   "source": [
    "url = \"https://mybusnow.njtransit.com/predictions/bystop/bustime:30189\""
   ]
  },
  {
   "cell_type": "code",
   "execution_count": 18,
   "id": "db3ca3e1",
   "metadata": {},
   "outputs": [],
   "source": [
    "from selenium import webdriver\n",
    "from selenium.webdriver.common.by import By\n",
    "\n",
    "# # interactive\n",
    "# driver = webdriver.Chrome()\n",
    "\n",
    "# headless\n",
    "chrome_options = webdriver.ChromeOptions()\n",
    "chrome_options.add_argument('--headless')\n",
    "driver = webdriver.Chrome(options=chrome_options)\n",
    "\n",
    "# Request the page\n",
    "driver.get(url)"
   ]
  },
  {
   "cell_type": "code",
   "execution_count": 21,
   "id": "063fd06f",
   "metadata": {},
   "outputs": [
    {
     "data": {
      "text/plain": [
       "['5305\\nRoute\\n1min\\n85 - Hoboken\\n85 HOBOKEN TERMINAL\\nLight',\n",
       " '5284\\nRoute\\n28min\\n85 - Hoboken\\n85 HOBOKEN TERMINAL']"
      ]
     },
     "execution_count": 21,
     "metadata": {},
     "output_type": "execute_result"
    }
   ],
   "source": [
    "prediction_rows=driver.find_elements(By.XPATH, \"//div[@class='panel panel-prediction-row']\")\n",
    "[r.text for r in prediction_rows]"
   ]
  },
  {
   "cell_type": "code",
   "execution_count": 22,
   "id": "c9fc0850",
   "metadata": {},
   "outputs": [
    {
     "name": "stdout",
     "output_type": "stream",
     "text": [
      "['5305', 'Route', '1min', '85 - Hoboken', '85 HOBOKEN TERMINAL', 'Light']\n",
      "['5284', 'Route', '28min', '85 - Hoboken', '85 HOBOKEN TERMINAL']\n"
     ]
    }
   ],
   "source": [
    "for row in prediction_rows:\n",
    "    data = row.text.split('\\n')\n",
    "    print(data)\n"
   ]
  },
  {
   "cell_type": "code",
   "execution_count": null,
   "id": "05dfcc0b",
   "metadata": {},
   "outputs": [],
   "source": []
  },
  {
   "cell_type": "code",
   "execution_count": null,
   "id": "f38b5446",
   "metadata": {},
   "outputs": [],
   "source": []
  }
 ],
 "metadata": {
  "kernelspec": {
   "display_name": "Python [conda env:bigdata]",
   "language": "python",
   "name": "conda-env-bigdata-py"
  },
  "language_info": {
   "codemirror_mode": {
    "name": "ipython",
    "version": 3
   },
   "file_extension": ".py",
   "mimetype": "text/x-python",
   "name": "python",
   "nbconvert_exporter": "python",
   "pygments_lexer": "ipython3",
   "version": "3.9.5"
  }
 },
 "nbformat": 4,
 "nbformat_minor": 5
}
